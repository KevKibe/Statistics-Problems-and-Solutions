{
 "cells": [
  {
   "cell_type": "code",
   "execution_count": 1,
   "id": "aa689d98",
   "metadata": {},
   "outputs": [],
   "source": [
    "import pandas as pd\n",
    "import numpy as np\n",
    "import matplotlib.pyplot as plt\n",
    "import seaborn as sns\n",
    "%matplotlib inline \n",
    "import scipy.stats as stats"
   ]
  },
  {
   "cell_type": "markdown",
   "id": "09870461",
   "metadata": {},
   "source": [
    "# Problem Statement\n",
    "80% of all visitors in a museum end up buying a souvenir. If a sample of 10 visitors are picked,<br>\n",
    "1. Find the probability that every visitor will end up buying from the  souvenir shop\n",
    "2. Find the probability that a maximum of 7 visitors will buy souvenirs from the shop"
   ]
  },
  {
   "cell_type": "code",
   "execution_count": 3,
   "id": "9222a347",
   "metadata": {},
   "outputs": [],
   "source": [
    "n= 10 # sample size in variable n which represents number of visitors\n",
    "\n",
    "p= 0.8 # probabilty of success"
   ]
  },
  {
   "cell_type": "code",
   "execution_count": 5,
   "id": "37fd0af9",
   "metadata": {},
   "outputs": [
    {
     "data": {
      "text/plain": [
       "array([ 0,  1,  2,  3,  4,  5,  6,  7,  8,  9, 10])"
      ]
     },
     "execution_count": 5,
     "metadata": {},
     "output_type": "execute_result"
    }
   ],
   "source": [
    "k= np.arange(0,11) #possible number of visitors selected\n",
    "k"
   ]
  },
  {
   "cell_type": "markdown",
   "id": "021f1ee8",
   "metadata": {},
   "source": [
    "n(number of visitors selected randomly)=10<br>\n",
    "p(probability that a visitor will buy a souvenir) = 0.8<br>\n",
    "q(probability that a visitor will end up not buying a souvenir) = 0.2<br>\n",
    "We will use binom.pmf() to calculate probability function which provides probability for the number of visitors that will end up making a purchase"
   ]
  },
  {
   "cell_type": "code",
   "execution_count": 8,
   "id": "143ec299",
   "metadata": {},
   "outputs": [],
   "source": [
    "from scipy.stats import binom\n",
    "\n",
    "binomial = binom.pmf(k=k, n=n, p=p)"
   ]
  },
  {
   "cell_type": "code",
   "execution_count": 9,
   "id": "6f63a816",
   "metadata": {},
   "outputs": [
    {
     "data": {
      "text/plain": [
       "array([1.02400000e-07, 4.09600000e-06, 7.37280000e-05, 7.86432000e-04,\n",
       "       5.50502400e-03, 2.64241152e-02, 8.80803840e-02, 2.01326592e-01,\n",
       "       3.01989888e-01, 2.68435456e-01, 1.07374182e-01])"
      ]
     },
     "execution_count": 9,
     "metadata": {},
     "output_type": "execute_result"
    }
   ],
   "source": [
    "binomial"
   ]
  },
  {
   "cell_type": "markdown",
   "id": "5e7d3330",
   "metadata": {},
   "source": [
    "This is the array of possibilities for different number of successes"
   ]
  },
  {
   "cell_type": "markdown",
   "id": "58ecad66",
   "metadata": {},
   "source": [
    "# plotting the visualization"
   ]
  },
  {
   "cell_type": "code",
   "execution_count": 10,
   "id": "ad648656",
   "metadata": {},
   "outputs": [
    {
     "data": {
      "image/png": "[encoded data removed]",
      "text/plain": [
       "<Figure size 432x288 with 1 Axes>"
      ]
     },
     "metadata": {
      "needs_background": "light"
     },
     "output_type": "display_data"
    }
   ],
   "source": [
    "plt.bar(k,binomial)\n",
    "plt.title(\"Binomia: n=%i , p=%.2f\" % (n,p), fontsize=17)\n",
    "plt.xlabel(\"Number of Sucesses\")\n",
    "plt.ylabel(\"probability of Successes\")\n",
    "plt.show()"
   ]
  },
  {
   "cell_type": "markdown",
   "id": "700059dd",
   "metadata": {},
   "source": [
    "First question: Find the probability that every visitor will end up buying from the souvenir shop?<br>\n"
   ]
  },
  {
   "cell_type": "code",
   "execution_count": 15,
   "id": "d925829a",
   "metadata": {},
   "outputs": [
    {
     "data": {
      "text/plain": [
       "0.10737418240000006"
      ]
     },
     "execution_count": 15,
     "metadata": {},
     "output_type": "execute_result"
    }
   ],
   "source": [
    " binomial[10]"
   ]
  },
  {
   "cell_type": "markdown",
   "id": "9230c036",
   "metadata": {},
   "source": [
    "There is an 10.74% chance that everyone will make a purchase"
   ]
  },
  {
   "cell_type": "markdown",
   "id": "40081c78",
   "metadata": {},
   "source": [
    "Second question: Find the probability that a maximum of 7 visitors will buy souvenirs from the shop<br>\n"
   ]
  },
  {
   "cell_type": "code",
   "execution_count": 13,
   "id": "38b65991",
   "metadata": {},
   "outputs": [
    {
     "data": {
      "text/plain": [
       "0.32220047359999987"
      ]
     },
     "execution_count": 13,
     "metadata": {},
     "output_type": "execute_result"
    }
   ],
   "source": [
    " binom.cdf(k=7,n=n,p=p)"
   ]
  },
  {
   "cell_type": "markdown",
   "id": "9c8e31f8",
   "metadata": {},
   "source": [
    "There is an 32.22%% chance that everyone will make a purchase"
   ]
  },
  {
   "cell_type": "markdown",
   "id": "0d1a88e2",
   "metadata": {},
   "source": [
    "# Problem Statement"
   ]
  },
  {
   "cell_type": "markdown",
   "id": "263bc3ef",
   "metadata": {},
   "source": [
    " IT industry records the amount of time a software engineer needs to fix a  bug in the initial phase of software development in 'debugging.csv'.<br>\n",
    "\n",
    "Let<br>\n",
    "\n",
    "X = Time needed to fix bugs<br>\n",
    "\n",
    "X is a continuous random variable. Let's see the distribution of X and answer the below questions.<br>\n",
    "\n",
    "Find the probability that a randomly selected software debugging requires less than three hours.<br>\n",
    "\n",
    "Find the probability that a randomly selected software debugging requires more than two hours.<br>\n",
    "\n",
    "Find the 50th percentile of the software debugging time.<br>"
   ]
  },
  {
   "cell_type": "code",
   "execution_count": 16,
   "id": "df01e772",
   "metadata": {},
   "outputs": [
    {
     "data": {
      "text/html": [
       "<div>\n",
       "<style scoped>\n",
       "    .dataframe tbody tr th:only-of-type {\n",
       "        vertical-align: middle;\n",
       "    }\n",
       "\n",
       "    .dataframe tbody tr th {\n",
       "        vertical-align: top;\n",
       "    }\n",
       "\n",
       "    .dataframe thead th {\n",
       "        text-align: right;\n",
       "    }\n",
       "</style>\n",
       "<table border=\"1\" class=\"dataframe\">\n",
       "  <thead>\n",
       "    <tr style=\"text-align: right;\">\n",
       "      <th></th>\n",
       "      <th>Bug ID</th>\n",
       "      <th>Time Taken to fix the bug</th>\n",
       "    </tr>\n",
       "  </thead>\n",
       "  <tbody>\n",
       "    <tr>\n",
       "      <th>0</th>\n",
       "      <td>12986</td>\n",
       "      <td>2.42</td>\n",
       "    </tr>\n",
       "    <tr>\n",
       "      <th>1</th>\n",
       "      <td>12987</td>\n",
       "      <td>2.03</td>\n",
       "    </tr>\n",
       "    <tr>\n",
       "      <th>2</th>\n",
       "      <td>12988</td>\n",
       "      <td>2.74</td>\n",
       "    </tr>\n",
       "    <tr>\n",
       "      <th>3</th>\n",
       "      <td>12989</td>\n",
       "      <td>3.21</td>\n",
       "    </tr>\n",
       "    <tr>\n",
       "      <th>4</th>\n",
       "      <td>12990</td>\n",
       "      <td>3.40</td>\n",
       "    </tr>\n",
       "  </tbody>\n",
       "</table>\n",
       "</div>"
      ],
      "text/plain": [
       "   Bug ID  Time Taken to fix the bug\n",
       "0   12986                       2.42\n",
       "1   12987                       2.03\n",
       "2   12988                       2.74\n",
       "3   12989                       3.21\n",
       "4   12990                       3.40"
      ]
     },
     "execution_count": 16,
     "metadata": {},
     "output_type": "execute_result"
    }
   ],
   "source": [
    "debugtime=pd.read_csv(r\"C:\\Users\\kibe\\Downloads\\debugging.csv\")\n",
    "debugtime.head()"
   ]
  },
  {
   "cell_type": "code",
   "execution_count": 18,
   "id": "0c21b095",
   "metadata": {},
   "outputs": [
    {
     "data": {
      "image/png": "[encoded data removed]",
      "text/plain": [
       "<Figure size 432x288 with 1 Axes>"
      ]
     },
     "metadata": {
      "needs_background": "light"
     },
     "output_type": "display_data"
    }
   ],
   "source": [
    "# visualize the distribution of the time needed for bug fixing\n",
    "plt.hist(debugtime[\"Time Taken to fix the bug\"], density=True)\n",
    "plt.axhline(1 / 4, color=\"red\")\n",
    "plt.xlabel(\"Time required for bug fixing\")\n",
    "plt.ylabel(\"Probability\")\n",
    "plt.title(\"Data Distribution\")\n",
    "plt.show()"
   ]
  },
  {
   "cell_type": "code",
   "execution_count": 19,
   "id": "69a6dc46",
   "metadata": {},
   "outputs": [
    {
     "name": "stderr",
     "output_type": "stream",
     "text": [
      "V:\\Anaconda\\lib\\site-packages\\seaborn\\distributions.py:2619: FutureWarning: `distplot` is a deprecated function and will be removed in a future version. Please adapt your code to use either `displot` (a figure-level function with similar flexibility) or `histplot` (an axes-level function for histograms).\n",
      "  warnings.warn(msg, FutureWarning)\n"
     ]
    },
    {
     "data": {
      "image/png": "[encoded data removed]",
      "text/plain": [
       "<Figure size 432x288 with 1 Axes>"
      ]
     },
     "metadata": {
      "needs_background": "light"
     },
     "output_type": "display_data"
    }
   ],
   "source": [
    "# density plot of time taken to fix the bug\n",
    "sns.distplot(debugtime[\"Time Taken to fix the bug\"], kde=True)\n",
    "plt.show()"
   ]
  },
  {
   "cell_type": "markdown",
   "id": "9a115363",
   "metadata": {},
   "source": [
    "As you can see from the above plot that all the values between 1 and 5 are having almost equal probability, we are going to use continuous uniform distribution. We need to decide the endpoints. Here, the endpoints are 1 and 5.\n",
    "\n",
    "X ~ U(1, 5)"
   ]
  },
  {
   "cell_type": "code",
   "execution_count": 20,
   "id": "d811b558",
   "metadata": {},
   "outputs": [],
   "source": [
    "# import the required function\n",
    "from scipy.stats import uniform\n",
    "\n",
    "# use the uniform.pdf() function to generate the probability distribution\n",
    "x = np.linspace(1, 5, 50)\n",
    "probs = uniform.pdf(x, loc=1, scale=4)"
   ]
  },
  {
   "cell_type": "markdown",
   "id": "e1a96e33",
   "metadata": {},
   "source": [
    "<b>Find the probability that a randomly selected software debugging requires less than three hours.<b/>"
   ]
  },
  {
   "cell_type": "code",
   "execution_count": 21,
   "id": "e36be53d",
   "metadata": {},
   "outputs": [
    {
     "data": {
      "text/plain": [
       "0.5"
      ]
     },
     "execution_count": 21,
     "metadata": {},
     "output_type": "execute_result"
    }
   ],
   "source": [
    "uniform.cdf(x=3, loc=1, scale=4)"
   ]
  },
  {
   "cell_type": "markdown",
   "id": "59409e3d",
   "metadata": {},
   "source": [
    "<b>Find the probability that a randomly selected software bug fixing requires more than two hours.</b>"
   ]
  },
  {
   "cell_type": "code",
   "execution_count": 22,
   "id": "f7f46501",
   "metadata": {},
   "outputs": [
    {
     "data": {
      "text/plain": [
       "0.75"
      ]
     },
     "execution_count": 22,
     "metadata": {},
     "output_type": "execute_result"
    }
   ],
   "source": [
    "1 - uniform.cdf(x=2, loc=1, scale=4)"
   ]
  },
  {
   "cell_type": "markdown",
   "id": "0734be91",
   "metadata": {},
   "source": [
    "<b>Let's calculate the 50th percentile of software debugging time.</b>"
   ]
  },
  {
   "cell_type": "code",
   "execution_count": 23,
   "id": "5943d4cc",
   "metadata": {},
   "outputs": [
    {
     "data": {
      "text/plain": [
       "3.0"
      ]
     },
     "execution_count": 23,
     "metadata": {},
     "output_type": "execute_result"
    }
   ],
   "source": [
    "uniform.ppf(q=0.5, loc=1, scale=4)"
   ]
  },
  {
   "cell_type": "markdown",
   "id": "96e32517",
   "metadata": {},
   "source": [
    "<b>Conclusion:</b>  \n",
    "There is a 50% chance that a randomly selected software debugging requires less than three hours.<br>\n",
    "\n",
    "There is a 75% chance that a randomly selected software debugging requires more than two hours.<br>\n",
    "\n",
    "The 50th percentile of the software debugging time is 3 hours.<br>"
   ]
  },
  {
   "cell_type": "code",
   "execution_count": 25,
   "id": "ad468502",
   "metadata": {},
   "outputs": [
    {
     "data": {
      "text/plain": [
       "0.19999999999999996"
      ]
     },
     "execution_count": 25,
     "metadata": {},
     "output_type": "execute_result"
    }
   ],
   "source": [
    "1-uniform.cdf(x=4.2, loc=1, scale=4)"
   ]
  },
  {
   "cell_type": "code",
   "execution_count": null,
   "id": "c5831e13",
   "metadata": {},
   "outputs": [],
   "source": []
  }
 ],
 "metadata": {
  "kernelspec": {
   "display_name": "Python 3 (ipykernel)",
   "language": "python",
   "name": "python3"
  },
  "language_info": {
   "codemirror_mode": {
    "name": "ipython",
    "version": 3
   },
   "file_extension": ".py",
   "mimetype": "text/x-python",
   "name": "python",
   "nbconvert_exporter": "python",
   "pygments_lexer": "ipython3",
   "version": "3.9.12"
  }
 },
 "nbformat": 4,
 "nbformat_minor": 5
}
